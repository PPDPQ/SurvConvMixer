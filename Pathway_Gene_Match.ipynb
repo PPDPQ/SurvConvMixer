{
 "cells": [
  {
   "cell_type": "code",
   "execution_count": 1,
   "id": "e27a20fb",
   "metadata": {},
   "outputs": [
    {
     "data": {
      "text/plain": [
       "               _                           \n",
       "platform       x86_64-w64-mingw32          \n",
       "arch           x86_64                      \n",
       "os             mingw32                     \n",
       "system         x86_64, mingw32             \n",
       "status                                     \n",
       "major          4                           \n",
       "minor          1.2                         \n",
       "year           2021                        \n",
       "month          11                          \n",
       "day            01                          \n",
       "svn rev        81115                       \n",
       "language       R                           \n",
       "version.string R version 4.1.2 (2021-11-01)\n",
       "nickname       Bird Hippie                 "
      ]
     },
     "metadata": {},
     "output_type": "display_data"
    }
   ],
   "source": [
    "version"
   ]
  },
  {
   "cell_type": "code",
   "execution_count": 2,
   "id": "631af0cd",
   "metadata": {},
   "outputs": [],
   "source": [
    "library(\"KEGGREST\")"
   ]
  },
  {
   "cell_type": "code",
   "execution_count": 223,
   "id": "d74d2c27",
   "metadata": {},
   "outputs": [],
   "source": [
    "names <- keggGet(\"N00239\")[[1]]$GENE"
   ]
  },
  {
   "cell_type": "code",
   "execution_count": 224,
   "id": "9e7a96a3",
   "metadata": {},
   "outputs": [],
   "source": [
    "namesodd <-  names[seq(0,length(names),2)]"
   ]
  },
  {
   "cell_type": "code",
   "execution_count": 225,
   "id": "5459dccf",
   "metadata": {},
   "outputs": [],
   "source": [
    "namestrue <- gsub(\"\\\\;.*\",\"\",namesodd)"
   ]
  },
  {
   "cell_type": "code",
   "execution_count": 226,
   "id": "51ca9f1d",
   "metadata": {},
   "outputs": [
    {
     "data": {
      "text/html": [
       "'TERC'"
      ],
      "text/latex": [
       "'TERC'"
      ],
      "text/markdown": [
       "'TERC'"
      ],
      "text/plain": [
       "[1] \"TERC\""
      ]
     },
     "metadata": {},
     "output_type": "display_data"
    }
   ],
   "source": [
    "namestrue"
   ]
  },
  {
   "cell_type": "code",
   "execution_count": 227,
   "id": "9b14d36b",
   "metadata": {},
   "outputs": [],
   "source": [
    "write.csv(namestrue, file = \"data/Telomerase_activity/Telomerase_activity.csv\",quote = F, row.names = F)"
   ]
  },
  {
   "cell_type": "code",
   "execution_count": null,
   "id": "4f58b256",
   "metadata": {},
   "outputs": [],
   "source": []
  }
 ],
 "metadata": {
  "kernelspec": {
   "display_name": "R",
   "language": "R",
   "name": "ir"
  },
  "language_info": {
   "codemirror_mode": "r",
   "file_extension": ".r",
   "mimetype": "text/x-r-source",
   "name": "R",
   "pygments_lexer": "r",
   "version": "4.2.2"
  }
 },
 "nbformat": 4,
 "nbformat_minor": 5
}
