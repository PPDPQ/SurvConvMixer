{
 "cells": [
  {
   "cell_type": "code",
   "execution_count": null,
   "id": "9a6f0c1f",
   "metadata": {},
   "outputs": [],
   "source": [
    "%%time\n",
    "import numpy as np\n",
    "import pandas as pd\n",
    "import warnings\n",
    "#from MyUtils import *\n",
    "import tensorflow as tf\n",
    "from tensorflow import keras\n",
    "from tensorflow.keras import layers\n",
    "from sklearn.neighbors import NearestNeighbors\n",
    "from sklearn.preprocessing import scale\n",
    "\n",
    "from sklearn.metrics import accuracy_score\n",
    "from sklearn.metrics import f1_score\n",
    "from sklearn.metrics import confusion_matrix\n",
    "from sklearn.metrics.pairwise import cosine_similarity\n",
    "from sklearn import svm\n",
    "from sklearn import tree\n",
    "from sklearn.ensemble import RandomForestClassifier\n",
    "\n",
    "from sklearn.feature_selection import mutual_info_classif\n",
    "from sklearn.linear_model import LogisticRegression\n",
    "from sklearn.neighbors import KNeighborsClassifier\n",
    "from scipy import special, stats\n",
    "from scipy.sparse import issparse\n",
    "from sklearn.base import BaseEstimator\n",
    "from sklearn.preprocessing import LabelBinarizer\n",
    "\n",
    "from sklearn.utils.extmath import safe_sparse_dot, row_norms\n",
    "\n",
    "from sklearn.feature_selection._base import SelectorMixin\n",
    "from sklearn.metrics import roc_auc_score\n",
    "#from sklearn.metrics.cluster import check_clusterings\n",
    "from sklearn.metrics.cluster import contingency_matrix\n",
    "from sklearn import metrics\n",
    "from sklearn import preprocessing\n",
    "from sklearn.metrics import roc_curve\n",
    "from sklearn.neural_network import MLPClassifier"
   ]
  },
  {
   "cell_type": "code",
   "execution_count": null,
   "id": "c048b3ee",
   "metadata": {},
   "outputs": [],
   "source": [
    "# Select the time-to-event time\n",
    "def selected_time(selected_time, time, event):\n",
    "    if (time > selected_time): return 0\n",
    "    else:\n",
    "        if (event == 1.0): return 1\n",
    "        else: return None"
   ]
  },
  {
   "cell_type": "code",
   "execution_count": null,
   "id": "48c5e164",
   "metadata": {},
   "outputs": [],
   "source": [
    "survival_metric='Pat_Died'\n",
    "survival_time='Pat_Overall_Survival_Months'\n",
    "time=36"
   ]
  },
  {
   "cell_type": "code",
   "execution_count": null,
   "id": "436d0237",
   "metadata": {},
   "outputs": [],
   "source": [
    "%%time\n",
    "geo_clinical=pd.read_hdf('data/SKCM/train_set.h5',key='clinical')\n",
    "test_clinical=pd.read_hdf('data/SKCM/test_set.h5',key='clinical')"
   ]
  },
  {
   "cell_type": "code",
   "execution_count": null,
   "id": "8e38c66a",
   "metadata": {},
   "outputs": [],
   "source": [
    "geo_clinical.drop_duplicates()"
   ]
  },
  {
   "cell_type": "code",
   "execution_count": null,
   "id": "4cee0361",
   "metadata": {},
   "outputs": [],
   "source": [
    "test_clinical.drop_duplicates()"
   ]
  },
  {
   "cell_type": "code",
   "execution_count": null,
   "id": "3148d09a",
   "metadata": {},
   "outputs": [],
   "source": [
    "geo_categorical = geo_clinical[[survival_metric, survival_time]].apply(lambda row: selected_time(time, row[survival_time], row[survival_metric]), axis=1)\n",
    "geo_categorical.dropna(inplace=True)\n",
    "geo_categorical.value_counts(normalize=True)"
   ]
  },
  {
   "cell_type": "code",
   "execution_count": null,
   "id": "131a4707",
   "metadata": {},
   "outputs": [],
   "source": [
    "test_cate= test_clinical[[survival_metric, survival_time]].apply(lambda row: selected_time(time, row[survival_time], row[survival_metric]), axis=1)\n",
    "test_cate.dropna(inplace=True)\n",
    "test_cate.value_counts(normalize=True)"
   ]
  },
  {
   "cell_type": "code",
   "execution_count": null,
   "id": "0e42b0e9",
   "metadata": {
    "scrolled": true
   },
   "outputs": [],
   "source": [
    "df=pd.DataFrame(geo_categorical)\n",
    "df['Sam_Name']=geo_categorical.index\n",
    "df"
   ]
  },
  {
   "cell_type": "code",
   "execution_count": null,
   "id": "bfc24454",
   "metadata": {},
   "outputs": [],
   "source": [
    "dft=pd.DataFrame(test_cate)\n",
    "dft['Sam_Name']=test_cate.index\n",
    "dft"
   ]
  },
  {
   "cell_type": "code",
   "execution_count": null,
   "id": "18dd58f4",
   "metadata": {},
   "outputs": [],
   "source": [
    "df=df.drop_duplicates(subset=['Sam_Name'],keep='first')"
   ]
  },
  {
   "cell_type": "code",
   "execution_count": null,
   "id": "52f60cd0",
   "metadata": {},
   "outputs": [],
   "source": [
    "df"
   ]
  },
  {
   "cell_type": "code",
   "execution_count": null,
   "id": "ca4ff197",
   "metadata": {},
   "outputs": [],
   "source": [
    "dft=dft.drop_duplicates(subset=['Sam_Name'],keep='first')"
   ]
  },
  {
   "cell_type": "code",
   "execution_count": null,
   "id": "bf907ef4",
   "metadata": {},
   "outputs": [],
   "source": [
    "dft"
   ]
  },
  {
   "cell_type": "code",
   "execution_count": null,
   "id": "35149d87",
   "metadata": {},
   "outputs": [],
   "source": [
    "clinical=geo_clinical.loc[[s for s in df.index]]"
   ]
  },
  {
   "cell_type": "code",
   "execution_count": null,
   "id": "661ee653",
   "metadata": {},
   "outputs": [],
   "source": [
    "clinical=clinical.drop_duplicates()\n",
    "clinical"
   ]
  },
  {
   "cell_type": "code",
   "execution_count": null,
   "id": "7779124b",
   "metadata": {},
   "outputs": [],
   "source": [
    "test_clinical=test_clinical.loc[[s for s in dft.index]]"
   ]
  },
  {
   "cell_type": "code",
   "execution_count": null,
   "id": "2b51cbda",
   "metadata": {},
   "outputs": [],
   "source": [
    "test_clinical=test_clinical.drop_duplicates()\n",
    "test_clinical"
   ]
  },
  {
   "cell_type": "code",
   "execution_count": null,
   "id": "9d5ee655",
   "metadata": {},
   "outputs": [],
   "source": [
    "%%time\n",
    "X_gene_exp_L=pd.read_hdf('data/SKCM/train_set.h5',key='gene_expression')"
   ]
  },
  {
   "cell_type": "code",
   "execution_count": null,
   "id": "fb39cbf3",
   "metadata": {},
   "outputs": [],
   "source": [
    "X_gene_exp_L"
   ]
  },
  {
   "cell_type": "code",
   "execution_count": null,
   "id": "d03c5915",
   "metadata": {},
   "outputs": [],
   "source": [
    "%%time\n",
    "X_test=pd.read_hdf('data/SKCM/test_set.h5',key='gene_expression')"
   ]
  },
  {
   "cell_type": "code",
   "execution_count": null,
   "id": "c631d632",
   "metadata": {},
   "outputs": [],
   "source": [
    "X_test"
   ]
  },
  {
   "cell_type": "code",
   "execution_count": null,
   "id": "88fe56c6",
   "metadata": {},
   "outputs": [],
   "source": [
    "X_gene_exp_L=X_gene_exp_L.T.loc[[s for s in df[0].index]]"
   ]
  },
  {
   "cell_type": "code",
   "execution_count": null,
   "id": "b5fdaa99",
   "metadata": {},
   "outputs": [],
   "source": [
    "X_gene_exp_L"
   ]
  },
  {
   "cell_type": "code",
   "execution_count": null,
   "id": "ff9c06e5",
   "metadata": {},
   "outputs": [],
   "source": [
    "X_gene_exp_L.insert(loc=len(X_gene_exp_L.columns),column='g1', value=[0 for i in range(len(X_gene_exp_L))])"
   ]
  },
  {
   "cell_type": "code",
   "execution_count": null,
   "id": "119f58e6",
   "metadata": {},
   "outputs": [],
   "source": [
    "X_gene_exp_L.insert(loc=len(X_gene_exp_L.columns),column='g2', value=[0 for i in range(len(X_gene_exp_L))])"
   ]
  },
  {
   "cell_type": "code",
   "execution_count": null,
   "id": "454334e4",
   "metadata": {},
   "outputs": [],
   "source": [
    "X_gene_exp_L.insert(loc=len(X_gene_exp_L.columns),column='g3', value=[0 for i in range(len(X_gene_exp_L))])"
   ]
  },
  {
   "cell_type": "code",
   "execution_count": null,
   "id": "e66feeaf",
   "metadata": {},
   "outputs": [],
   "source": [
    "X_gene_exp_L.insert(loc=len(X_gene_exp_L.columns),column='g4', value=[0 for i in range(len(X_gene_exp_L))])"
   ]
  },
  {
   "cell_type": "code",
   "execution_count": null,
   "id": "2ab6e7c7",
   "metadata": {},
   "outputs": [],
   "source": [
    "X_gene_exp_L.insert(loc=len(X_gene_exp_L.columns),column='g5', value=[0 for i in range(len(X_gene_exp_L))])"
   ]
  },
  {
   "cell_type": "code",
   "execution_count": null,
   "id": "3e6cbb5a",
   "metadata": {},
   "outputs": [],
   "source": [
    "X_gene_exp_L.insert(loc=len(X_gene_exp_L.columns),column='g6', value=[0 for i in range(len(X_gene_exp_L))])"
   ]
  },
  {
   "cell_type": "code",
   "execution_count": null,
   "id": "031aec98",
   "metadata": {},
   "outputs": [],
   "source": [
    "X_gene_exp_L.insert(loc=len(X_gene_exp_L.columns),column='g7', value=[0 for i in range(len(X_gene_exp_L))])"
   ]
  },
  {
   "cell_type": "code",
   "execution_count": null,
   "id": "5bbb994b",
   "metadata": {},
   "outputs": [],
   "source": [
    "X_gene_exp_L.insert(loc=len(X_gene_exp_L.columns),column='g8', value=[0 for i in range(len(X_gene_exp_L))])"
   ]
  },
  {
   "cell_type": "code",
   "execution_count": null,
   "id": "7b4f1957",
   "metadata": {},
   "outputs": [],
   "source": [
    "X_gene_exp_L.insert(loc=len(X_gene_exp_L.columns),column='g9', value=[0 for i in range(len(X_gene_exp_L))])"
   ]
  },
  {
   "cell_type": "code",
   "execution_count": null,
   "id": "a01eeb19",
   "metadata": {},
   "outputs": [],
   "source": [
    "X_gene_exp_L.insert(loc=len(X_gene_exp_L.columns),column='g10', value=[0 for i in range(len(X_gene_exp_L))])"
   ]
  },
  {
   "cell_type": "code",
   "execution_count": null,
   "id": "4fed011e",
   "metadata": {},
   "outputs": [],
   "source": [
    "X_gene_exp_L.insert(loc=len(X_gene_exp_L.columns),column='g11', value=[0 for i in range(len(X_gene_exp_L))])"
   ]
  },
  {
   "cell_type": "code",
   "execution_count": null,
   "id": "6ac87968",
   "metadata": {},
   "outputs": [],
   "source": [
    "X_gene_exp_L.insert(loc=len(X_gene_exp_L.columns),column='g12', value=[0 for i in range(len(X_gene_exp_L))])"
   ]
  },
  {
   "cell_type": "code",
   "execution_count": null,
   "id": "88ad0fc9",
   "metadata": {},
   "outputs": [],
   "source": [
    "X_gene_exp_L.insert(loc=len(X_gene_exp_L.columns),column='g13', value=[0 for i in range(len(X_gene_exp_L))])"
   ]
  },
  {
   "cell_type": "code",
   "execution_count": null,
   "id": "d63b5f79",
   "metadata": {},
   "outputs": [],
   "source": [
    "X_gene_exp_L.insert(loc=len(X_gene_exp_L.columns),column='g14', value=[0 for i in range(len(X_gene_exp_L))])"
   ]
  },
  {
   "cell_type": "code",
   "execution_count": null,
   "id": "d022fbb8",
   "metadata": {},
   "outputs": [],
   "source": [
    "X_gene_exp_L.insert(loc=len(X_gene_exp_L.columns),column='g15', value=[0 for i in range(len(X_gene_exp_L))])"
   ]
  },
  {
   "cell_type": "code",
   "execution_count": null,
   "id": "ec06a32d",
   "metadata": {},
   "outputs": [],
   "source": [
    "X_gene_exp_L.insert(loc=len(X_gene_exp_L.columns),column='g16', value=[0 for i in range(len(X_gene_exp_L))])"
   ]
  },
  {
   "cell_type": "code",
   "execution_count": null,
   "id": "e5cca8c8",
   "metadata": {},
   "outputs": [],
   "source": [
    "X_gene_exp_L.insert(loc=len(X_gene_exp_L.columns),column='g17', value=[0 for i in range(len(X_gene_exp_L))])"
   ]
  },
  {
   "cell_type": "code",
   "execution_count": null,
   "id": "33f36f68",
   "metadata": {},
   "outputs": [],
   "source": [
    "X_gene_exp_L.insert(loc=len(X_gene_exp_L.columns),column='g18', value=[0 for i in range(len(X_gene_exp_L))])"
   ]
  },
  {
   "cell_type": "code",
   "execution_count": null,
   "id": "ea17f8a3",
   "metadata": {},
   "outputs": [],
   "source": [
    "X_gene_exp_L"
   ]
  },
  {
   "cell_type": "code",
   "execution_count": null,
   "id": "930c911a",
   "metadata": {},
   "outputs": [],
   "source": [
    "X_test=X_test.T.loc[[s for s in dft[0].index]]"
   ]
  },
  {
   "cell_type": "code",
   "execution_count": null,
   "id": "a57cb0e7",
   "metadata": {},
   "outputs": [],
   "source": [
    "X_test"
   ]
  },
  {
   "cell_type": "code",
   "execution_count": null,
   "id": "99de4f25",
   "metadata": {},
   "outputs": [],
   "source": [
    "#X_test.insert(loc=len(X_test.columns), column='G1', value=[0 for i in range(len(X_test))])"
   ]
  },
  {
   "cell_type": "code",
   "execution_count": null,
   "id": "8cabe205",
   "metadata": {},
   "outputs": [],
   "source": [
    "#X_test.insert(loc=len(X_test.columns), column='G2', value=[0 for i in range(len(X_test))])"
   ]
  },
  {
   "cell_type": "code",
   "execution_count": null,
   "id": "285796ec",
   "metadata": {},
   "outputs": [],
   "source": [
    "X_test"
   ]
  },
  {
   "cell_type": "code",
   "execution_count": null,
   "id": "3b8b76ee",
   "metadata": {},
   "outputs": [],
   "source": [
    "from sklearn.preprocessing import LabelEncoder\n",
    "y = LabelEncoder().fit_transform(df[0])\n",
    "y_test = LabelEncoder().fit_transform(dft[0])"
   ]
  },
  {
   "cell_type": "code",
   "execution_count": null,
   "id": "a1b27a8d",
   "metadata": {},
   "outputs": [],
   "source": [
    "y.shape"
   ]
  },
  {
   "cell_type": "code",
   "execution_count": null,
   "id": "18e82984",
   "metadata": {},
   "outputs": [],
   "source": [
    "y_test.shape"
   ]
  },
  {
   "cell_type": "code",
   "execution_count": null,
   "id": "0adaf514",
   "metadata": {},
   "outputs": [],
   "source": [
    "from sklearn.model_selection import train_test_split\n",
    "X_train,X_val,geo_categorical_train,geo_categorical_test,y_train,y_val=train_test_split(X_gene_exp_L,df[0],y,test_size=0.2,random_state=126)\n",
    "X_train.shape, y_train.shape, X_val.shape, y_val.shape,geo_categorical_train.shape,geo_categorical_test.shape"
   ]
  },
  {
   "cell_type": "code",
   "execution_count": null,
   "id": "32d90e31",
   "metadata": {},
   "outputs": [],
   "source": [
    "%%time\n",
    "X_smote=X_train\n",
    "#X_smote.shape\n",
    "from imblearn.over_sampling import SMOTE,RandomOverSampler\n",
    "oversample = SMOTE(random_state=321)\n",
    "X_r_train,y_r_train=oversample.fit_resample(X_smote,y_train)\n",
    "oversample_r=RandomOverSampler(random_state=321)\n",
    "X_random_train,y_random_train=oversample_r.fit_resample(X_smote,y_train)"
   ]
  },
  {
   "cell_type": "markdown",
   "id": "dbe4856f",
   "metadata": {},
   "source": [
    "## Hyperparameters Searching"
   ]
  },
  {
   "cell_type": "code",
   "execution_count": null,
   "id": "0b1e550c",
   "metadata": {},
   "outputs": [],
   "source": [
    "knn_model =KNeighborsClassifier()"
   ]
  },
  {
   "cell_type": "code",
   "execution_count": null,
   "id": "0fa47562",
   "metadata": {},
   "outputs": [],
   "source": [
    "knn_model.get_params()"
   ]
  },
  {
   "cell_type": "code",
   "execution_count": null,
   "id": "03d4215c",
   "metadata": {},
   "outputs": [],
   "source": [
    "para_knn={\n",
    "    'leaf_size':[10,20,30,40,50,60,70,80,90,100],\n",
    "    'n_neighbors':[1,2,3,4,5,6,7,8,9,10],\n",
    "    'p':[1,2],\n",
    "}"
   ]
  },
  {
   "cell_type": "code",
   "execution_count": null,
   "id": "d3806c61",
   "metadata": {},
   "outputs": [],
   "source": [
    "from sklearn.model_selection import GridSearchCV\n",
    "clf_knn=GridSearchCV(knn_model,para_knn)"
   ]
  },
  {
   "cell_type": "code",
   "execution_count": null,
   "id": "31630045",
   "metadata": {},
   "outputs": [],
   "source": [
    "%%time\n",
    "clf_knn.fit(X_random_train,y_random_train)"
   ]
  },
  {
   "cell_type": "code",
   "execution_count": null,
   "id": "d76ec40e",
   "metadata": {},
   "outputs": [],
   "source": [
    "clf_knn.best_params_"
   ]
  },
  {
   "cell_type": "code",
   "execution_count": null,
   "id": "d366964d",
   "metadata": {},
   "outputs": [],
   "source": [
    "clf_knn.best_score_"
   ]
  },
  {
   "cell_type": "code",
   "execution_count": null,
   "id": "f5884447",
   "metadata": {},
   "outputs": [],
   "source": [
    "svm_model =svm.SVC()"
   ]
  },
  {
   "cell_type": "code",
   "execution_count": null,
   "id": "ad96f6ec",
   "metadata": {},
   "outputs": [],
   "source": [
    "svm_model.get_params()"
   ]
  },
  {
   "cell_type": "code",
   "execution_count": null,
   "id": "8f8c5695",
   "metadata": {},
   "outputs": [],
   "source": [
    "para_svm={'C': [1, 10, 100, 1000], 'gamma': [0.1,0.001, 0.0001,0.00001], 'kernel': ['rbf','linear']}"
   ]
  },
  {
   "cell_type": "code",
   "execution_count": null,
   "id": "9ad1af1d",
   "metadata": {},
   "outputs": [],
   "source": [
    "from sklearn.model_selection import GridSearchCV\n",
    "clf_svm=GridSearchCV(svm_model,para_svm)"
   ]
  },
  {
   "cell_type": "code",
   "execution_count": null,
   "id": "e39cde85",
   "metadata": {},
   "outputs": [],
   "source": [
    "%%time\n",
    "clf_svm.fit(X_r_train,y_r_train)"
   ]
  },
  {
   "cell_type": "code",
   "execution_count": null,
   "id": "6e1cb3c4",
   "metadata": {},
   "outputs": [],
   "source": [
    "clf_svm.best_params_"
   ]
  },
  {
   "cell_type": "code",
   "execution_count": null,
   "id": "177eafe2",
   "metadata": {},
   "outputs": [],
   "source": [
    "clf_svm.best_score_"
   ]
  },
  {
   "cell_type": "code",
   "execution_count": null,
   "id": "08a4a0ae",
   "metadata": {},
   "outputs": [],
   "source": [
    "rf_model =RandomForestClassifier()"
   ]
  },
  {
   "cell_type": "code",
   "execution_count": null,
   "id": "d926960f",
   "metadata": {},
   "outputs": [],
   "source": [
    "rf_model.get_params()"
   ]
  },
  {
   "cell_type": "code",
   "execution_count": null,
   "id": "acb2a5f6",
   "metadata": {},
   "outputs": [],
   "source": [
    "# Number of trees in random forest\n",
    "n_estimators = [int(x) for x in np.linspace(start = 200, stop = 400, num = 5)]\n",
    "# Number of features to consider at every split\n",
    "max_features = ['auto', 'sqrt']\n",
    "# Maximum number of levels in tree\n",
    "max_depth = [int(x) for x in np.linspace(5, 20, num = 4)]\n",
    "#max_depth.append(None)\n",
    "# Minimum number of samples required to split a node\n",
    "min_samples_split = [2, 5, 10]\n",
    "# Minimum number of samples required at each leaf node\n",
    "min_samples_leaf = [1, 2, 4]\n",
    "# Method of selecting samples for training each tree\n",
    "#bootstrap = [True, False]\n",
    "para_rf={\n",
    "    'n_estimators': n_estimators,\n",
    "    'max_features': max_features,\n",
    "    'max_depth': max_depth,\n",
    "    'min_samples_split': min_samples_split,\n",
    "    'min_samples_leaf': min_samples_leaf,\n",
    "    #'bootstrap': bootstrap\n",
    "}\n",
    "print('n_estimators: {}'.format(n_estimators))\n",
    "print('max_features: {}'.format(max_features))\n",
    "print('max_depth: {}'.format(max_depth))\n",
    "print('min_samples_split {}: '.format(min_samples_split))\n",
    "print('min_samples_leaf: {}'.format(min_samples_leaf))\n",
    "#print('bootstrap: {}'.format(bootstrap))\n"
   ]
  },
  {
   "cell_type": "code",
   "execution_count": null,
   "id": "4e049e16",
   "metadata": {},
   "outputs": [],
   "source": [
    "from sklearn.model_selection import RandomizedSearchCV\n",
    "clf_rf=RandomizedSearchCV(estimator=rf_model,\n",
    "                          param_distributions=para_rf,\n",
    "                          n_iter=300,\n",
    "                          n_jobs=-1,\n",
    "                          cv=5,\n",
    "                          verbose=1,\n",
    "                         random_state=321)"
   ]
  },
  {
   "cell_type": "code",
   "execution_count": null,
   "id": "e80b5eb8",
   "metadata": {},
   "outputs": [],
   "source": [
    "%%time\n",
    "clf_rf.fit(X_r_train,y_r_train)"
   ]
  },
  {
   "cell_type": "code",
   "execution_count": null,
   "id": "4606fdd6",
   "metadata": {},
   "outputs": [],
   "source": [
    "clf_rf.best_params_"
   ]
  },
  {
   "cell_type": "code",
   "execution_count": null,
   "id": "6940b17a",
   "metadata": {},
   "outputs": [],
   "source": [
    "clf_rf.best_score_"
   ]
  },
  {
   "cell_type": "code",
   "execution_count": null,
   "id": "122d766c",
   "metadata": {},
   "outputs": [],
   "source": [
    "lr_model =LogisticRegression()"
   ]
  },
  {
   "cell_type": "code",
   "execution_count": null,
   "id": "fc96974f",
   "metadata": {},
   "outputs": [],
   "source": [
    "lr_model.get_params()"
   ]
  },
  {
   "cell_type": "code",
   "execution_count": null,
   "id": "ff5c5015",
   "metadata": {},
   "outputs": [],
   "source": [
    "para_lr = {'penalty': ('l1', 'l2'),'C': (0.01, 0.1, 1, 10)}"
   ]
  },
  {
   "cell_type": "code",
   "execution_count": null,
   "id": "b68251e8",
   "metadata": {},
   "outputs": [],
   "source": [
    "from sklearn.model_selection import GridSearchCV\n",
    "clf_lr=GridSearchCV(lr_model,para_lr)"
   ]
  },
  {
   "cell_type": "code",
   "execution_count": null,
   "id": "543e6f72",
   "metadata": {},
   "outputs": [],
   "source": [
    "%%time\n",
    "clf_lr.fit(X_r_train,y_r_train)"
   ]
  },
  {
   "cell_type": "code",
   "execution_count": null,
   "id": "268e620b",
   "metadata": {},
   "outputs": [],
   "source": [
    "clf_lr.best_params_"
   ]
  },
  {
   "cell_type": "code",
   "execution_count": null,
   "id": "dd37e15e",
   "metadata": {},
   "outputs": [],
   "source": [
    "clf_lr.best_score_"
   ]
  },
  {
   "cell_type": "code",
   "execution_count": null,
   "id": "ba4e7dde",
   "metadata": {},
   "outputs": [],
   "source": [
    "mlp_model =MLPClassifier(max_iter=10000)"
   ]
  },
  {
   "cell_type": "code",
   "execution_count": null,
   "id": "1d137a45",
   "metadata": {},
   "outputs": [],
   "source": [
    "mlp_model.get_params()"
   ]
  },
  {
   "cell_type": "code",
   "execution_count": null,
   "id": "99544cd2",
   "metadata": {},
   "outputs": [],
   "source": [
    "para_mlp = {\n",
    "    'hidden_layer_sizes': [(8,32,8),(16,64,16),(32,144,32),(64,256,64),(8,32,32,8),(16,64,64,16),(32,144,144,32),(64,256,256,64)],\n",
    "    'activation': ['tanh', 'relu'],\n",
    "    'solver': ['sgd', 'adam'],\n",
    "    'alpha': [0.0001, 0.05],\n",
    "    'learning_rate': ['constant','adaptive'],\n",
    "}"
   ]
  },
  {
   "cell_type": "code",
   "execution_count": null,
   "id": "c19c2f04",
   "metadata": {},
   "outputs": [],
   "source": [
    "from sklearn.model_selection import GridSearchCV\n",
    "clf_mlp=GridSearchCV(mlp_model,para_mlp,n_jobs=-1)"
   ]
  },
  {
   "cell_type": "code",
   "execution_count": null,
   "id": "61e00e04",
   "metadata": {},
   "outputs": [],
   "source": [
    "%%time\n",
    "clf_mlp.fit(X_r_train,y_r_train)"
   ]
  },
  {
   "cell_type": "code",
   "execution_count": null,
   "id": "f327b1dd",
   "metadata": {},
   "outputs": [],
   "source": [
    "clf_mlp.best_params_"
   ]
  },
  {
   "cell_type": "code",
   "execution_count": null,
   "id": "26b8a2ff",
   "metadata": {},
   "outputs": [],
   "source": [
    "clf_mlp.best_score_"
   ]
  },
  {
   "cell_type": "markdown",
   "id": "f67a21d0",
   "metadata": {},
   "source": [
    "## Repeated Internal Validations"
   ]
  },
  {
   "cell_type": "code",
   "execution_count": null,
   "id": "fa44d0a7",
   "metadata": {},
   "outputs": [],
   "source": [
    "rs_list=[]\n",
    "for i in range(0,50):\n",
    "    rs_list.append(i+25)\n",
    "rs_list"
   ]
  },
  {
   "cell_type": "code",
   "execution_count": null,
   "id": "d8d4d56a",
   "metadata": {},
   "outputs": [],
   "source": [
    "init_rs_list=rs_list"
   ]
  },
  {
   "cell_type": "code",
   "execution_count": null,
   "id": "ea507a42",
   "metadata": {},
   "outputs": [],
   "source": [
    "init_rs_list"
   ]
  },
  {
   "cell_type": "code",
   "execution_count": null,
   "id": "66f3b71d",
   "metadata": {},
   "outputs": [],
   "source": [
    "%%time\n",
    "from sklearn.model_selection import train_test_split\n",
    "from imblearn.over_sampling import SMOTE as os\n",
    "from sklearn.metrics import accuracy_score,roc_auc_score,precision_score,recall_score \n",
    "import sklearn\n",
    "#accuracy_list=[]\n",
    "auc_list=[]\n",
    "#precision_list=[]\n",
    "#recall_list=[]\n",
    "#f1_score_list=[]\n",
    "#thresh_list=[]\n",
    "\n",
    "#accuracy_list_t=[]\n",
    "auc_list_t=[]\n",
    "#precision_list_t=[]\n",
    "#recall_list_t=[]\n",
    "#f1_score_list_t=[]\n",
    "#thresh_list_t=[]\n",
    "\n",
    "#rs_list=init_rs_list\n",
    "for rs in rs_list:\n",
    "    X_train,X_val,geo_categorical_train,geo_categorical_test,y_train,y_val=train_test_split(X_gene_exp_L,df[0],y,test_size=0.2,random_state=rs)\n",
    "    \n",
    "    X_smote=X_train\n",
    "    oversample = os(random_state=rs)\n",
    "    X_r_train,y_r_train=oversample.fit_resample(X_smote,y_train)\n",
    "    #{'leaf_size': 10, 'n_neighbors': 1, 'p': 2}\n",
    "    knn_model =KNeighborsClassifier(leaf_size=10,n_neighbors=5,p=2)\n",
    "    knn_model.fit(X_r_train, y_r_train)\n",
    "    \n",
    "    y_val_pred=knn_model.predict_proba(X_val)[:,1]\n",
    "    \n",
    "    geo_categorical_pred=pd.DataFrame(geo_categorical_test)\n",
    "    geo_categorical_pred['prediction']=y_val_pred\n",
    "    \n",
    "    auc=sklearn.metrics.roc_auc_score(y_val,y_val_pred)\n",
    "    '''\n",
    "    fpr, tpr, thresholds = roc_curve(y_val, y_val_pred)\n",
    "    J = tpr - fpr\n",
    "    index_max = np.argmax(J)\n",
    "    best_thresh = thresholds[index_max]\n",
    "    \n",
    "    tp=geo_categorical_pred[(geo_categorical_pred[0]==1.0) & (geo_categorical_pred['prediction']>=best_thresh)].shape[0]\n",
    "    fp=geo_categorical_pred[(geo_categorical_pred[0]==1.0) & (geo_categorical_pred['prediction']<best_thresh)].shape[0]\n",
    "    tn=geo_categorical_pred[(geo_categorical_pred[0]==0.0) & (geo_categorical_pred['prediction']<=best_thresh)].shape[0]\n",
    "    fn=geo_categorical_pred[(geo_categorical_pred[0]==0.0) & (geo_categorical_pred['prediction']>best_thresh)].shape[0]\n",
    "    \n",
    "     \n",
    "    accuracy=(tp+tn)/(tp+fp+tn+fn)\n",
    "    precision=tp/(tp+fp)\n",
    "    recall=tp/(tp+fn)\n",
    "    '''\n",
    "    #f1_score=2*(precision*recall)/(precision+recall) \n",
    "    \n",
    "    #External Validation / Generalization Validation   \n",
    "    print('External Validation, waiting...')\n",
    "    y_pred_t=knn_model.predict_proba(X_test)[:,1]\n",
    "    auc_t=sklearn.metrics.roc_auc_score(y_test,y_pred_t)\n",
    "    df_pred=pd.DataFrame(dft[0])\n",
    "    df_pred['prediction']=y_pred_t\n",
    "    '''\n",
    "    fpr_t, tpr_t, thresholds_t = roc_curve(y_test, y_pred_t)\n",
    "    J_t = tpr_t - fpr_t\n",
    "    index_max_t = np.argmax(J_t)\n",
    "    best_thresh_t = thresholds_t[index_max_t]\n",
    "    \n",
    "    tp_t=df_pred[(df_pred[0]==1.0) & (df_pred['prediction']>=best_thresh_t)].shape[0]\n",
    "    fp_t=df_pred[(df_pred[0]==1.0) & (df_pred['prediction']<best_thresh_t)].shape[0]\n",
    "    tn_t=df_pred[(df_pred[0]==0.0) & (df_pred['prediction']<=best_thresh_t)].shape[0]\n",
    "    fn_t=df_pred[(df_pred[0]==0.0) & (df_pred['prediction']>best_thresh_t)].shape[0]\n",
    "    \n",
    "    accuracy_t=(tp_t+tn_t)/(tp_t+fp_t+tn_t+fn_t)\n",
    "    precision_t=tp_t/(tp_t+fp_t)\n",
    "    recall_t=tp_t/(tp_t+fn_t)\n",
    "    f1_score_t=2*(precision_t*recall_t)/(precision_t+recall_t) \n",
    "    \n",
    "    '''\n",
    "    '''\n",
    "    accuracy= accuracy_score(y_test, y_test_pred)\n",
    "    auc=roc_auc_score(y_test, y_test_pred)\n",
    "    precision=precision_score(y_test, y_test_pred,labels=None,pos_label=1,average='binary')\n",
    "    recall=recall_score(y_test, y_test_pred,labels=None,pos_label=1,average='binary')\n",
    "    f1_score=f1_score(y_test, y_test_pred,average=\"binary\")\n",
    "    '''\n",
    "    #accuracy_list.append(accuracy)\n",
    "    auc_list.append(auc)\n",
    "    #precision_list.append(precision)\n",
    "    #recall_list.append(recall)\n",
    "    #f1_score_list.append(f1_score)\n",
    "    #thresh_list.append(best_thresh)\n",
    "    \n",
    "    #accuracy_list_t.append(accuracy_t)\n",
    "    auc_list_t.append(auc_t)\n",
    "    #precision_list_t.append(precision_t)\n",
    "    #recall_list_t.append(recall_t)\n",
    "    #f1_score_list_t.append(f1_score_t)\n",
    "    #thresh_list_t.append(best_thresh_t)\n",
    "    print('fold {}'.format(rs))\n",
    "    \n",
    "#print('mean accuracy={}±{}'.format(np.mean(accuracy_list),np.std(accuracy_list)))\n",
    "print('mean auc={}±{}'.format(np.mean(auc_list),np.std(auc_list)))\n",
    "#print('mean precision={}±{}'.format(np.mean(precision_list),np.std(precision_list)))\n",
    "#print('mean recall={}±{}'.format(np.mean(recall_list),np.std(recall_list)))\n",
    "#print('mean f1_score={}±{}'.format(np.mean(f1_score_list),np.std(f1_score_list)))\n",
    "#print('mean thresh={}±{}'.format(np.mean(thresh_list),np.std(thresh_list)))\n",
    "\n",
    "print('=========================================================')\n",
    "\n",
    "#print('mean accuracy independent={}±{}'.format(np.mean(accuracy_list_t),np.std(accuracy_list_t)))\n",
    "print('mean auc independent={}±{}'.format(np.mean(auc_list_t),np.std(auc_list_t)))\n",
    "#print('mean precision independent={}±{}'.format(np.mean(precision_list_t),np.std(precision_list_t)))\n",
    "#print('mean recall independent={}±{}'.format(np.mean(recall_list_t),np.std(recall_list_t)))\n",
    "#print('mean f1_score independent={}±{}'.format(np.mean(f1_score_list_t),np.std(f1_score_list_t)))\n",
    "#print('mean threshold independent={}±{}'.format(np.mean(thresh_list_t),np.std(thresh_list_t)))"
   ]
  },
  {
   "cell_type": "code",
   "execution_count": null,
   "id": "f9fb7674",
   "metadata": {},
   "outputs": [],
   "source": [
    "auc_list"
   ]
  },
  {
   "cell_type": "code",
   "execution_count": null,
   "id": "e7bb53bd",
   "metadata": {
    "scrolled": false
   },
   "outputs": [],
   "source": [
    "auc_list_t"
   ]
  },
  {
   "cell_type": "code",
   "execution_count": null,
   "id": "0b44c23a",
   "metadata": {},
   "outputs": [],
   "source": [
    "%%time\n",
    "from sklearn.model_selection import train_test_split\n",
    "from imblearn.over_sampling import SMOTE as os\n",
    "from sklearn.metrics import accuracy_score,roc_auc_score,precision_score,recall_score \n",
    "import sklearn\n",
    "#accuracy_list=[]\n",
    "auc_list=[]\n",
    "#precision_list=[]\n",
    "#recall_list=[]\n",
    "#f1_score_list=[]\n",
    "#thresh_list=[]\n",
    "\n",
    "#accuracy_list_t=[]\n",
    "auc_list_t=[]\n",
    "#precision_list_t=[]\n",
    "#recall_list_t=[]\n",
    "#f1_score_list_t=[]\n",
    "#thresh_list_t=[]\n",
    "\n",
    "rs_list=init_rs_list\n",
    "for rs in rs_list:\n",
    "    X_train,X_val,geo_categorical_train,geo_categorical_test,y_train,y_val=train_test_split(X_gene_exp_L,df[0],y,test_size=0.2,random_state=rs)\n",
    "    \n",
    "    X_smote=X_train\n",
    "    oversample = os(random_state=rs)\n",
    "    X_r_train,y_r_train=oversample.fit_resample(X_smote,y_train)\n",
    "    #{'C': 10, 'gamma': 0.1, 'kernel': 'rbf'}\n",
    "    svm_model =svm.SVC(C=10,gamma=0.1,kernel='rbf',probability=True)\n",
    "    svm_model.fit(X_r_train, y_r_train)\n",
    "    \n",
    "    y_val_pred=svm_model.predict_proba(X_val)[:,1]\n",
    "    \n",
    "    geo_categorical_pred=pd.DataFrame(geo_categorical_test)\n",
    "    geo_categorical_pred['prediction']=y_val_pred\n",
    "    \n",
    "    auc=sklearn.metrics.roc_auc_score(y_val,y_val_pred)\n",
    "    '''\n",
    "    fpr, tpr, thresholds = roc_curve(y_val, y_val_pred)\n",
    "    J = tpr - fpr\n",
    "    index_max = np.argmax(J)\n",
    "    best_thresh = thresholds[index_max]\n",
    "    \n",
    "    tp=geo_categorical_pred[(geo_categorical_pred[0]==1.0) & (geo_categorical_pred['prediction']>=best_thresh)].shape[0]\n",
    "    fp=geo_categorical_pred[(geo_categorical_pred[0]==1.0) & (geo_categorical_pred['prediction']<best_thresh)].shape[0]\n",
    "    tn=geo_categorical_pred[(geo_categorical_pred[0]==0.0) & (geo_categorical_pred['prediction']<=best_thresh)].shape[0]\n",
    "    fn=geo_categorical_pred[(geo_categorical_pred[0]==0.0) & (geo_categorical_pred['prediction']>best_thresh)].shape[0]\n",
    "    \n",
    "     \n",
    "    accuracy=(tp+tn)/(tp+fp+tn+fn)\n",
    "    precision=tp/(tp+fp)\n",
    "    recall=tp/(tp+fn)\n",
    "    f1_score=2*(precision*recall)/(precision+recall) \n",
    "    '''\n",
    "    \n",
    "    #External Validation / Generalization Validation   \n",
    "    print('External Validation, waiting...')\n",
    "    y_pred_t=svm_model.predict_proba(X_test)[:,1]\n",
    "    auc_t=sklearn.metrics.roc_auc_score(y_test,y_pred_t)\n",
    "    df_pred=pd.DataFrame(dft[0])\n",
    "    df_pred['prediction']=y_pred_t\n",
    "    '''\n",
    "    fpr_t, tpr_t, thresholds_t = roc_curve(y_test, y_pred_t)\n",
    "    J_t = tpr_t - fpr_t\n",
    "    index_max_t = np.argmax(J_t)\n",
    "    best_thresh_t = thresholds_t[index_max_t]\n",
    "    \n",
    "    tp_t=df_pred[(df_pred[0]==1.0) & (df_pred['prediction']>=best_thresh_t)].shape[0]\n",
    "    fp_t=df_pred[(df_pred[0]==1.0) & (df_pred['prediction']<best_thresh_t)].shape[0]\n",
    "    tn_t=df_pred[(df_pred[0]==0.0) & (df_pred['prediction']<=best_thresh_t)].shape[0]\n",
    "    fn_t=df_pred[(df_pred[0]==0.0) & (df_pred['prediction']>best_thresh_t)].shape[0]\n",
    "    \n",
    "    accuracy_t=(tp_t+tn_t)/(tp_t+fp_t+tn_t+fn_t)\n",
    "    precision_t=tp_t/(tp_t+fp_t)\n",
    "    recall_t=tp_t/(tp_t+fn_t)\n",
    "    f1_score_t=2*(precision_t*recall_t)/(precision_t+recall_t) \n",
    "    '''\n",
    "    '''\n",
    "    accuracy= accuracy_score(y_test, y_test_pred)\n",
    "    auc=roc_auc_score(y_test, y_test_pred)\n",
    "    precision=precision_score(y_test, y_test_pred,labels=None,pos_label=1,average='binary')\n",
    "    recall=recall_score(y_test, y_test_pred,labels=None,pos_label=1,average='binary')\n",
    "    f1_score=f1_score(y_test, y_test_pred,average=\"binary\")\n",
    "    '''\n",
    "    #accuracy_list.append(accuracy)\n",
    "    auc_list.append(auc)\n",
    "    #precision_list.append(precision)\n",
    "    #recall_list.append(recall)\n",
    "    #f1_score_list.append(f1_score)\n",
    "    #thresh_list.append(best_thresh)\n",
    "    \n",
    "    #accuracy_list_t.append(accuracy_t)\n",
    "    auc_list_t.append(auc_t)\n",
    "    #precision_list_t.append(precision_t)\n",
    "    #recall_list_t.append(recall_t)\n",
    "    #f1_score_list_t.append(f1_score_t)\n",
    "    #thresh_list_t.append(best_thresh_t)\n",
    "    print('fold {}'.format(rs))\n",
    "    \n",
    "#print('mean accuracy={}±{}'.format(np.mean(accuracy_list),np.std(accuracy_list)))\n",
    "print('mean auc={}±{}'.format(np.mean(auc_list),np.std(auc_list)))\n",
    "#print('mean precision={}±{}'.format(np.mean(precision_list),np.std(precision_list)))\n",
    "#print('mean recall={}±{}'.format(np.mean(recall_list),np.std(recall_list)))\n",
    "#print('mean f1_score={}±{}'.format(np.mean(f1_score_list),np.std(f1_score_list)))\n",
    "#print('mean thresh={}±{}'.format(np.mean(thresh_list),np.std(thresh_list)))\n",
    "\n",
    "print('=========================================================')\n",
    "\n",
    "#print('mean accuracy independent={}±{}'.format(np.mean(accuracy_list_t),np.std(accuracy_list_t)))\n",
    "print('mean auc independent={}±{}'.format(np.mean(auc_list_t),np.std(auc_list_t)))\n",
    "#print('mean precision independent={}±{}'.format(np.mean(precision_list_t),np.std(precision_list_t)))\n",
    "#print('mean recall independent={}±{}'.format(np.mean(recall_list_t),np.std(recall_list_t)))\n",
    "#print('mean f1_score independent={}±{}'.format(np.mean(f1_score_list_t),np.std(f1_score_list_t)))\n",
    "#print('mean threshold independent={}±{}'.format(np.mean(thresh_list_t),np.std(thresh_list_t)))"
   ]
  },
  {
   "cell_type": "code",
   "execution_count": null,
   "id": "88d14bca",
   "metadata": {},
   "outputs": [],
   "source": [
    "auc_list"
   ]
  },
  {
   "cell_type": "code",
   "execution_count": null,
   "id": "e23f1d87",
   "metadata": {},
   "outputs": [],
   "source": [
    "auc_list_t"
   ]
  },
  {
   "cell_type": "code",
   "execution_count": null,
   "id": "acdb5887",
   "metadata": {},
   "outputs": [],
   "source": [
    "%%time\n",
    "from sklearn.model_selection import train_test_split\n",
    "from imblearn.over_sampling import SMOTE as os\n",
    "from sklearn.metrics import accuracy_score,roc_auc_score,precision_score,recall_score \n",
    "import sklearn\n",
    "#accuracy_list=[]\n",
    "auc_list=[]\n",
    "#precision_list=[]\n",
    "#recall_list=[]\n",
    "#f1_score_list=[]\n",
    "#thresh_list=[]\n",
    "\n",
    "#accuracy_list_t=[]\n",
    "auc_list_t=[]\n",
    "#precision_list_t=[]\n",
    "#recall_list_t=[]\n",
    "#f1_score_list_t=[]\n",
    "#thresh_list_t=[]\n",
    "\n",
    "rs_list=init_rs_list\n",
    "for rs in rs_list:\n",
    "    X_train,X_val,geo_categorical_train,geo_categorical_test,y_train,y_val=train_test_split(X_gene_exp_L,df[0],y,test_size=0.2,random_state=rs)\n",
    "    \n",
    "    X_smote=X_train\n",
    "    oversample = os(random_state=rs)\n",
    "    X_r_train,y_r_train=oversample.fit_resample(X_smote,y_train)\n",
    "    '''\n",
    "    {'n_estimators': 250,\n",
    "     'min_samples_split': 2,\n",
    "     'min_samples_leaf': 1,\n",
    "     'max_features': 'sqrt',\n",
    "     'max_depth': 15}\n",
    "     '''\n",
    "    rf_model =RandomForestClassifier(n_estimators=250,min_samples_split=2,min_samples_leaf=1,max_features='sqrt',max_depth=15)\n",
    "    rf_model.fit(X_r_train, y_r_train)\n",
    "    #rf_predictions=rf_model.predict(X_test)\n",
    "    \n",
    "    y_val_pred=rf_model.predict_proba(X_val)[:,1]\n",
    "    \n",
    "    geo_categorical_pred=pd.DataFrame(geo_categorical_test)\n",
    "    geo_categorical_pred['prediction']=y_val_pred\n",
    "    \n",
    "    auc=sklearn.metrics.roc_auc_score(y_val,y_val_pred)\n",
    "    fpr, tpr, thresholds = roc_curve(y_val, y_val_pred)\n",
    "    J = tpr - fpr\n",
    "    index_max = np.argmax(J)\n",
    "    best_thresh = thresholds[index_max]\n",
    "    '''\n",
    "    tp=geo_categorical_pred[(geo_categorical_pred[0]==1.0) & (geo_categorical_pred['prediction']>=best_thresh)].shape[0]\n",
    "    fp=geo_categorical_pred[(geo_categorical_pred[0]==1.0) & (geo_categorical_pred['prediction']<best_thresh)].shape[0]\n",
    "    tn=geo_categorical_pred[(geo_categorical_pred[0]==0.0) & (geo_categorical_pred['prediction']<=best_thresh)].shape[0]\n",
    "    fn=geo_categorical_pred[(geo_categorical_pred[0]==0.0) & (geo_categorical_pred['prediction']>best_thresh)].shape[0]\n",
    "    \n",
    "     \n",
    "    accuracy=(tp+tn)/(tp+fp+tn+fn)\n",
    "    precision=tp/(tp+fp)\n",
    "    recall=tp/(tp+fn)\n",
    "    f1_score=2*(precision*recall)/(precision+recall) \n",
    "    '''\n",
    "    #External Validation / Generalization Validation   \n",
    "    print('External Validation, waiting...')\n",
    "    y_pred_t=rf_model.predict_proba(X_test)[:,1]\n",
    "    auc_t=sklearn.metrics.roc_auc_score(y_test,y_pred_t)\n",
    "    df_pred=pd.DataFrame(dft[0])\n",
    "    df_pred['prediction']=y_pred_t\n",
    "    '''\n",
    "    fpr_t, tpr_t, thresholds_t = roc_curve(y_test, y_pred_t)\n",
    "    J_t = tpr_t - fpr_t\n",
    "    index_max_t = np.argmax(J_t)\n",
    "    best_thresh_t = thresholds_t[index_max_t]\n",
    "    \n",
    "    tp_t=df_pred[(df_pred[0]==1.0) & (df_pred['prediction']>=best_thresh_t)].shape[0]\n",
    "    fp_t=df_pred[(df_pred[0]==1.0) & (df_pred['prediction']<best_thresh_t)].shape[0]\n",
    "    tn_t=df_pred[(df_pred[0]==0.0) & (df_pred['prediction']<=best_thresh_t)].shape[0]\n",
    "    fn_t=df_pred[(df_pred[0]==0.0) & (df_pred['prediction']>best_thresh_t)].shape[0]\n",
    "    \n",
    "    accuracy_t=(tp_t+tn_t)/(tp_t+fp_t+tn_t+fn_t)\n",
    "    precision_t=tp_t/(tp_t+fp_t)\n",
    "    recall_t=tp_t/(tp_t+fn_t)\n",
    "    f1_score_t=2*(precision_t*recall_t)/(precision_t+recall_t) \n",
    "    '''\n",
    "    '''\n",
    "    accuracy= accuracy_score(y_test, y_test_pred)\n",
    "    auc=roc_auc_score(y_test, y_test_pred)\n",
    "    precision=precision_score(y_test, y_test_pred,labels=None,pos_label=1,average='binary')\n",
    "    recall=recall_score(y_test, y_test_pred,labels=None,pos_label=1,average='binary')\n",
    "    f1_score=f1_score(y_test, y_test_pred,average=\"binary\")\n",
    "    '''\n",
    "    #ccuracy_list.append(accuracy)\n",
    "    auc_list.append(auc)\n",
    "    #recision_list.append(precision)\n",
    "    #ecall_list.append(recall)\n",
    "    #1_score_list.append(f1_score)\n",
    "    #hresh_list.append(best_thresh)\n",
    "    \n",
    "    #ccuracy_list_t.append(accuracy_t)\n",
    "    auc_list_t.append(auc_t)\n",
    "    #recision_list_t.append(precision_t)\n",
    "    #ecall_list_t.append(recall_t)\n",
    "    #1_score_list_t.append(f1_score_t)\n",
    "    #hresh_list_t.append(best_thresh_t)\n",
    "    print('fold {}'.format(rs))\n",
    "    \n",
    "#rint('mean accuracy={}±{}'.format(np.mean(accuracy_list),np.std(accuracy_list)))\n",
    "print('mean auc={}±{}'.format(np.mean(auc_list),np.std(auc_list)))\n",
    "#rint('mean precision={}±{}'.format(np.mean(precision_list),np.std(precision_list)))\n",
    "#rint('mean recall={}±{}'.format(np.mean(recall_list),np.std(recall_list)))\n",
    "#rint('mean f1_score={}±{}'.format(np.mean(f1_score_list),np.std(f1_score_list)))\n",
    "#rint('mean thresh={}±{}'.format(np.mean(thresh_list),np.std(thresh_list)))\n",
    "\n",
    "print('=========================================================')\n",
    "\n",
    "#rint('mean accuracy independent={}±{}'.format(np.mean(accuracy_list_t),np.std(accuracy_list_t)))\n",
    "print('mean auc independent={}±{}'.format(np.mean(auc_list_t),np.std(auc_list_t)))\n",
    "#rint('mean precision independent={}±{}'.format(np.mean(precision_list_t),np.std(precision_list_t)))\n",
    "#rint('mean recall independent={}±{}'.format(np.mean(recall_list_t),np.std(recall_list_t)))\n",
    "#rint('mean f1_score independent={}±{}'.format(np.mean(f1_score_list_t),np.std(f1_score_list_t)))\n",
    "#rint('mean threshold independent={}±{}'.format(np.mean(thresh_list_t),np.std(thresh_list_t)))"
   ]
  },
  {
   "cell_type": "code",
   "execution_count": null,
   "id": "b4e323cf",
   "metadata": {},
   "outputs": [],
   "source": [
    "auc_list"
   ]
  },
  {
   "cell_type": "code",
   "execution_count": null,
   "id": "1ea7ddda",
   "metadata": {},
   "outputs": [],
   "source": [
    "auc_list_t"
   ]
  },
  {
   "cell_type": "code",
   "execution_count": null,
   "id": "1814c3f9",
   "metadata": {},
   "outputs": [],
   "source": [
    "%%time\n",
    "from sklearn.model_selection import train_test_split\n",
    "from imblearn.over_sampling import SMOTE as os\n",
    "from sklearn.metrics import accuracy_score,roc_auc_score,precision_score,recall_score \n",
    "import sklearn\n",
    "#accuracy_list=[]\n",
    "auc_list=[]\n",
    "#precision_list=[]\n",
    "#recall_list=[]\n",
    "#f1_score_list=[]\n",
    "#thresh_list=[]\n",
    "\n",
    "#accuracy_list_t=[]\n",
    "auc_list_t=[]\n",
    "#precision_list_t=[]\n",
    "#recall_list_t=[]\n",
    "#f1_score_list_t=[]\n",
    "#thresh_list_t=[]\n",
    "\n",
    "rs_list=init_rs_list\n",
    "for rs in rs_list:\n",
    "    X_train,X_val,geo_categorical_train,geo_categorical_test,y_train,y_val=train_test_split(X_gene_exp_L,df[0],y,test_size=0.2,random_state=rs)\n",
    "    \n",
    "    X_smote=X_train\n",
    "    oversample = os(random_state=rs)\n",
    "    X_r_train,y_r_train=oversample.fit_resample(X_smote,y_train)\n",
    "    \n",
    "    lr_model =LogisticRegression(penalty='l2',C=10)\n",
    "    lr_model.fit(X_r_train, y_r_train)\n",
    "    #lr_predictions=lr_model.predict(X_test)\n",
    "    \n",
    "    y_val_pred=lr_model.predict_proba(X_val)[:,1]\n",
    "    \n",
    "    geo_categorical_pred=pd.DataFrame(geo_categorical_test)\n",
    "    geo_categorical_pred['prediction']=y_val_pred\n",
    "    \n",
    "    auc=sklearn.metrics.roc_auc_score(y_val,y_val_pred)\n",
    "    fpr, tpr, thresholds = roc_curve(y_val, y_val_pred)\n",
    "    J = tpr - fpr\n",
    "    index_max = np.argmax(J)\n",
    "    best_thresh = thresholds[index_max]\n",
    "    '''\n",
    "    tp=geo_categorical_pred[(geo_categorical_pred[0]==1.0) & (geo_categorical_pred['prediction']>=best_thresh)].shape[0]\n",
    "    fp=geo_categorical_pred[(geo_categorical_pred[0]==1.0) & (geo_categorical_pred['prediction']<best_thresh)].shape[0]\n",
    "    tn=geo_categorical_pred[(geo_categorical_pred[0]==0.0) & (geo_categorical_pred['prediction']<=best_thresh)].shape[0]\n",
    "    fn=geo_categorical_pred[(geo_categorical_pred[0]==0.0) & (geo_categorical_pred['prediction']>best_thresh)].shape[0]\n",
    "    \n",
    "     \n",
    "    accuracy=(tp+tn)/(tp+fp+tn+fn)\n",
    "    precision=tp/(tp+fp)\n",
    "    recall=tp/(tp+fn)\n",
    "    f1_score=2*(precision*recall)/(precision+recall) \n",
    "    '''\n",
    "    #External Validation / Generalization Validation   \n",
    "    print('External Validation, waiting...')\n",
    "    y_pred_t=lr_model.predict_proba(X_test)[:,1]\n",
    "    auc_t=sklearn.metrics.roc_auc_score(y_test,y_pred_t)\n",
    "    df_pred=pd.DataFrame(dft[0])\n",
    "    df_pred['prediction']=y_pred_t\n",
    "    '''\n",
    "    fpr_t, tpr_t, thresholds_t = roc_curve(y_test, y_pred_t)\n",
    "    J_t = tpr_t - fpr_t\n",
    "    index_max_t = np.argmax(J_t)\n",
    "    best_thresh_t = thresholds_t[index_max_t]\n",
    "    \n",
    "    tp_t=df_pred[(df_pred[0]==1.0) & (df_pred['prediction']>=best_thresh_t)].shape[0]\n",
    "    fp_t=df_pred[(df_pred[0]==1.0) & (df_pred['prediction']<best_thresh_t)].shape[0]\n",
    "    tn_t=df_pred[(df_pred[0]==0.0) & (df_pred['prediction']<=best_thresh_t)].shape[0]\n",
    "    fn_t=df_pred[(df_pred[0]==0.0) & (df_pred['prediction']>best_thresh_t)].shape[0]\n",
    "    '''\n",
    "    '''\n",
    "    accuracy_t=(tp_t+tn_t)/(tp_t+fp_t+tn_t+fn_t)\n",
    "    precision_t=tp_t/(tp_t+fp_t)\n",
    "    recall_t=tp_t/(tp_t+fn_t)\n",
    "    f1_score_t=2*(precision_t*recall_t)/(precision_t+recall_t) \n",
    "    '''\n",
    "    '''\n",
    "    accuracy= accuracy_score(y_test, y_test_pred)\n",
    "    auc=roc_auc_score(y_test, y_test_pred)\n",
    "    precision=precision_score(y_test, y_test_pred,labels=None,pos_label=1,average='binary')\n",
    "    recall=recall_score(y_test, y_test_pred,labels=None,pos_label=1,average='binary')\n",
    "    f1_score=f1_score(y_test, y_test_pred,average=\"binary\")\n",
    "    '''\n",
    "    #accuracy_list.append(accuracy)\n",
    "    auc_list.append(auc)\n",
    "    #precision_list.append(precision)\n",
    "    #recall_list.append(recall)\n",
    "    #f1_score_list.append(f1_score)\n",
    "    #thresh_list.append(best_thresh)\n",
    "    \n",
    "    #accuracy_list_t.append(accuracy_t)\n",
    "    auc_list_t.append(auc_t)\n",
    "    #precision_list_t.append(precision_t)\n",
    "    #recall_list_t.append(recall_t)\n",
    "    #f1_score_list_t.append(f1_score_t)\n",
    "    #thresh_list_t.append(best_thresh_t)\n",
    "    print('fold {}'.format(rs))\n",
    "    \n",
    "#print('mean accuracy={}±{}'.format(np.mean(accuracy_list),np.std(accuracy_list)))\n",
    "print('mean auc={}±{}'.format(np.mean(auc_list),np.std(auc_list)))\n",
    "#print('mean precision={}±{}'.format(np.mean(precision_list),np.std(precision_list)))\n",
    "#print('mean recall={}±{}'.format(np.mean(recall_list),np.std(recall_list)))\n",
    "#print('mean f1_score={}±{}'.format(np.mean(f1_score_list),np.std(f1_score_list)))\n",
    "#print('mean thresh={}±{}'.format(np.mean(thresh_list),np.std(thresh_list)))\n",
    "\n",
    "print('=========================================================')\n",
    "\n",
    "#print('mean accuracy independent={}±{}'.format(np.mean(accuracy_list_t),np.std(accuracy_list_t)))\n",
    "print('mean auc independent={}±{}'.format(np.mean(auc_list_t),np.std(auc_list_t)))\n",
    "#print('mean precision independent={}±{}'.format(np.mean(precision_list_t),np.std(precision_list_t)))\n",
    "#print('mean recall independent={}±{}'.format(np.mean(recall_list_t),np.std(recall_list_t)))\n",
    "#print('mean f1_score independent={}±{}'.format(np.mean(f1_score_list_t),np.std(f1_score_list_t)))\n",
    "#print('mean threshold independent={}±{}'.format(np.mean(thresh_list_t),np.std(thresh_list_t)))"
   ]
  },
  {
   "cell_type": "code",
   "execution_count": null,
   "id": "fed7794b",
   "metadata": {},
   "outputs": [],
   "source": [
    "auc_list"
   ]
  },
  {
   "cell_type": "code",
   "execution_count": null,
   "id": "3dea93df",
   "metadata": {},
   "outputs": [],
   "source": [
    "auc_list_t"
   ]
  },
  {
   "cell_type": "code",
   "execution_count": null,
   "id": "10699572",
   "metadata": {},
   "outputs": [],
   "source": [
    "%%time\n",
    "from sklearn.model_selection import train_test_split\n",
    "from imblearn.over_sampling import SMOTE as os\n",
    "from sklearn.metrics import accuracy_score,roc_auc_score,precision_score,recall_score \n",
    "import sklearn\n",
    "#accuracy_list=[]\n",
    "auc_list=[]\n",
    "#precision_list=[]\n",
    "#recall_list=[]\n",
    "#f1_score_list=[]\n",
    "#thresh_list=[]\n",
    "\n",
    "#accuracy_list_t=[]\n",
    "auc_list_t=[]\n",
    "#precision_list_t=[]\n",
    "#recall_list_t=[]\n",
    "#f1_score_list_t=[]\n",
    "#thresh_list_t=[]\n",
    "\n",
    "rs_list=init_rs_list\n",
    "#rs_list.remove(299)\n",
    "#rs_list.remove(261)\n",
    "#rs_list.append(310)\n",
    "#rs_list.append(252)\n",
    "for rs in rs_list:\n",
    "    print('current random state:{}'.format(rs))\n",
    "    X_train,X_val,geo_categorical_train,geo_categorical_test,y_train,y_val=train_test_split(X_gene_exp_L,df[0],y,test_size=0.2,random_state=rs)\n",
    "    \n",
    "    X_smote=X_train\n",
    "    oversample = os(random_state=rs)\n",
    "    X_r_train,y_r_train=oversample.fit_resample(X_smote,y_train)\n",
    "    '''\n",
    "    {'activation': 'relu',\n",
    "     'alpha': 0.0001,\n",
    "     'hidden_layer_sizes': (32, 144, 32),\n",
    "     'learning_rate': 'constant',\n",
    "     'solver': 'adam'}\n",
    "     '''\n",
    "    mlp_model =MLPClassifier(max_iter=10000,activation='relu',alpha=0.0001,hidden_layer_sizes=(32,144,32),learning_rate='constant',solver='adam')\n",
    "    mlp_model.fit(X_r_train, y_r_train)\n",
    "    #dt_predictions=dt_model.predict(X_test)\n",
    "    \n",
    "    y_val_pred=mlp_model.predict_proba(X_val)[:,1]\n",
    "    \n",
    "    geo_categorical_pred=pd.DataFrame(geo_categorical_test)\n",
    "    geo_categorical_pred['prediction']=y_val_pred\n",
    "    \n",
    "    auc=sklearn.metrics.roc_auc_score(y_val,y_val_pred)\n",
    "    fpr, tpr, thresholds = roc_curve(y_val, y_val_pred)\n",
    "    J = tpr - fpr\n",
    "    index_max = np.argmax(J)\n",
    "    best_thresh = thresholds[index_max]\n",
    "    '''\n",
    "    tp=geo_categorical_pred[(geo_categorical_pred[0]==1.0) & (geo_categorical_pred['prediction']>=best_thresh)].shape[0]\n",
    "    fp=geo_categorical_pred[(geo_categorical_pred[0]==1.0) & (geo_categorical_pred['prediction']<best_thresh)].shape[0]\n",
    "    tn=geo_categorical_pred[(geo_categorical_pred[0]==0.0) & (geo_categorical_pred['prediction']<=best_thresh)].shape[0]\n",
    "    fn=geo_categorical_pred[(geo_categorical_pred[0]==0.0) & (geo_categorical_pred['prediction']>best_thresh)].shape[0]\n",
    "    \n",
    "     \n",
    "    accuracy=(tp+tn)/(tp+fp+tn+fn)\n",
    "    precision=tp/(tp+fp)\n",
    "    recall=tp/(tp+fn)\n",
    "    f1_score=2*(precision*recall)/(precision+recall) \n",
    "    '''\n",
    "    #External Validation / Generalization Validation   \n",
    "    print('External Validation, waiting...')\n",
    "    y_pred_t=mlp_model.predict_proba(X_test)[:,1]\n",
    "    auc_t=sklearn.metrics.roc_auc_score(y_test,y_pred_t)\n",
    "    df_pred=pd.DataFrame(dft[0])\n",
    "    df_pred['prediction']=y_pred_t\n",
    "    '''\n",
    "    fpr_t, tpr_t, thresholds_t = roc_curve(y_test, y_pred_t)\n",
    "    J_t = tpr_t - fpr_t\n",
    "    index_max_t = np.argmax(J_t)\n",
    "    best_thresh_t = thresholds_t[index_max_t]\n",
    "    \n",
    "    tp_t=df_pred[(df_pred[0]==1.0) & (df_pred['prediction']>=best_thresh_t)].shape[0]\n",
    "    fp_t=df_pred[(df_pred[0]==1.0) & (df_pred['prediction']<best_thresh_t)].shape[0]\n",
    "    tn_t=df_pred[(df_pred[0]==0.0) & (df_pred['prediction']<=best_thresh_t)].shape[0]\n",
    "    fn_t=df_pred[(df_pred[0]==0.0) & (df_pred['prediction']>best_thresh_t)].shape[0]\n",
    "    \n",
    "    accuracy_t=(tp_t+tn_t)/(tp_t+fp_t+tn_t+fn_t)\n",
    "    precision_t=tp_t/(tp_t+fp_t)\n",
    "    recall_t=tp_t/(tp_t+fn_t)\n",
    "    f1_score_t=2*(precision_t*recall_t)/(precision_t+recall_t) \n",
    "    '''\n",
    "    '''\n",
    "    accuracy= accuracy_score(y_test, y_test_pred)\n",
    "    auc=roc_auc_score(y_test, y_test_pred)\n",
    "    precision=precision_score(y_test, y_test_pred,labels=None,pos_label=1,average='binary')\n",
    "    recall=recall_score(y_test, y_test_pred,labels=None,pos_label=1,average='binary')\n",
    "    f1_score=f1_score(y_test, y_test_pred,average=\"binary\")\n",
    "    '''\n",
    "    #accuracy_list.append(accuracy)\n",
    "    auc_list.append(auc)\n",
    "    #precision_list.append(precision)\n",
    "    #recall_list.append(recall)\n",
    "    #f1_score_list.append(f1_score)\n",
    "    #thresh_list.append(best_thresh)\n",
    "    \n",
    "    #accuracy_list_t.append(accuracy_t)\n",
    "    auc_list_t.append(auc_t)\n",
    "    #precision_list_t.append(precision_t)\n",
    "    #recall_list_t.append(recall_t)\n",
    "    #f1_score_list_t.append(f1_score_t)\n",
    "    #thresh_list_t.append(best_thresh_t)\n",
    "    print('fold {}'.format(rs))\n",
    "    \n",
    "#print('mean accuracy={}±{}'.format(np.mean(accuracy_list),np.std(accuracy_list)))\n",
    "print('mean auc={}±{}'.format(np.mean(auc_list),np.std(auc_list)))\n",
    "#print('mean precision={}±{}'.format(np.mean(precision_list),np.std(precision_list)))\n",
    "#print('mean recall={}±{}'.format(np.mean(recall_list),np.std(recall_list)))\n",
    "#print('mean f1_score={}±{}'.format(np.mean(f1_score_list),np.std(f1_score_list)))\n",
    "#print('mean thresh={}±{}'.format(np.mean(thresh_list),np.std(thresh_list)))\n",
    "\n",
    "print('=========================================================')\n",
    "\n",
    "#print('mean accuracy independent={}±{}'.format(np.mean(accuracy_list_t),np.std(accuracy_list_t)))\n",
    "print('mean auc independent={}±{}'.format(np.mean(auc_list_t),np.std(auc_list_t)))\n",
    "#print('mean precision independent={}±{}'.format(np.mean(precision_list_t),np.std(precision_list_t)))\n",
    "#print('mean recall independent={}±{}'.format(np.mean(recall_list_t),np.std(recall_list_t)))\n",
    "#print('mean f1_score independent={}±{}'.format(np.mean(f1_score_list_t),np.std(f1_score_list_t)))\n",
    "#print('mean threshold independent={}±{}'.format(np.mean(thresh_list_t),np.std(thresh_list_t)))"
   ]
  },
  {
   "cell_type": "code",
   "execution_count": null,
   "id": "72722402",
   "metadata": {},
   "outputs": [],
   "source": [
    "auc_list"
   ]
  },
  {
   "cell_type": "code",
   "execution_count": null,
   "id": "35282381",
   "metadata": {},
   "outputs": [],
   "source": [
    "auc_list_t"
   ]
  },
  {
   "cell_type": "markdown",
   "id": "479c84cb",
   "metadata": {},
   "source": [
    "## Drawing AUC Curve"
   ]
  },
  {
   "cell_type": "code",
   "execution_count": null,
   "id": "24c25bb9",
   "metadata": {},
   "outputs": [],
   "source": [
    "import matplotlib.pyplot as plt\n",
    "from sklearn.metrics import plot_roc_curve,roc_curve,auc,roc_auc_score"
   ]
  },
  {
   "cell_type": "code",
   "execution_count": null,
   "id": "da88a7a1",
   "metadata": {},
   "outputs": [],
   "source": [
    "from sklearn.model_selection import train_test_split\n",
    "X_train,X_test,geo_categorical_train,geo_categorical_test,y_train,y_test=train_test_split(X_gene_exp_L,geo_categorical,y,test_size=0.2,random_state=126,stratify=y)\n",
    "X_train.shape, y_train.shape, X_test.shape, y_test.shape,geo_categorical_train.shape,geo_categorical_test.shape"
   ]
  },
  {
   "cell_type": "code",
   "execution_count": null,
   "id": "48342f28",
   "metadata": {},
   "outputs": [],
   "source": [
    "%%time\n",
    "X_smote=X_train\n",
    "#X_smote.shape\n",
    "from imblearn.over_sampling import SMOTE,RandomOverSampler\n",
    "oversample = SMOTE(random_state=321)\n",
    "X_r_train,y_r_train=oversample.fit_resample(X_smote,y_train)\n",
    "oversample_r=RandomOverSampler(random_state=321)\n",
    "X_random_train,y_random_train=oversample_r.fit_resample(X_smote,y_train)"
   ]
  },
  {
   "cell_type": "code",
   "execution_count": null,
   "id": "cb670a95",
   "metadata": {},
   "outputs": [],
   "source": [
    "knn_model =KNeighborsClassifier(leaf_size=10,n_neighbors=8,p=2)\n",
    "knn_model.fit(X_random_train, y_random_train)\n",
    "\n",
    "y_test_pred=knn_model.predict_proba(X_test)[:,1]\n",
    "fpr, tpr, thresholds = roc_curve(y_test, y_test_pred)\n",
    "print('auc={}'.format(auc(fpr,tpr)))\n",
    "AUC=auc(fpr,tpr)\n",
    "fig,ax = plt.subplots(figsize=(10,8))\n",
    "ax.plot(fpr,tpr,linewidth=2,\n",
    "        label='KNN-GEO (AUC={})'.format(str(round(auc(fpr,tpr),3))))\n",
    "ax.plot([0,1],[0,1],linestyle='--',color='grey')\n",
    "ax.set_xlabel('False Positive Rate',fontsize=14)\n",
    "ax.set_ylabel('True Positive Rate',fontsize=14)\n",
    "plt.title('KNN-GEO AUROC Curve',fontsize=14)\n",
    "plt.legend(loc='lower right',prop={'size': 14})\n",
    "plt.show()\n",
    "ax.get_figure().savefig(\"figures/geo/knn-auc-curve.svg\",dpi=500,format='svg')"
   ]
  },
  {
   "cell_type": "code",
   "execution_count": null,
   "id": "5f4ef950",
   "metadata": {},
   "outputs": [],
   "source": [
    "svm_model =svm.SVC(C=10,gamma=0.1,kernel='rbf',probability=True)\n",
    "svm_model.fit(X_r_train, y_r_train)\n",
    "    \n",
    "y_test_pred=svm_model.predict_proba(X_test)[:,1]\n",
    "fpr, tpr, thresholds = roc_curve(y_test, y_test_pred)\n",
    "print('auc={}'.format(auc(fpr,tpr)))\n",
    "AUC=auc(fpr,tpr)\n",
    "fig,ax = plt.subplots(figsize=(10,8))\n",
    "ax.plot(fpr,tpr,linewidth=2,\n",
    "        label='SVM-GEO (AUC={})'.format(str(round(auc(fpr,tpr),3))))\n",
    "ax.plot([0,1],[0,1],linestyle='--',color='grey')\n",
    "ax.set_xlabel('False Positive Rate',fontsize=14)\n",
    "ax.set_ylabel('True Positive Rate',fontsize=14)\n",
    "plt.title('SVM-GEO AUROC Curve',fontsize=14)\n",
    "plt.legend(loc='lower right',prop={'size': 14})\n",
    "plt.show()\n",
    "ax.get_figure().savefig(\"figures/geo/svm-auc-curve.svg\",dpi=500,format='svg')"
   ]
  },
  {
   "cell_type": "code",
   "execution_count": null,
   "id": "b7332d68",
   "metadata": {},
   "outputs": [],
   "source": [
    "rf_model =RandomForestClassifier(n_estimators=250,min_samples_split=10,min_samples_leaf=1,max_features='auto',max_depth=20)\n",
    "rf_model.fit(X_r_train, y_r_train)\n",
    "#rf_predictions=rf_model.predict(X_test)\n",
    "    \n",
    "y_test_pred=rf_model.predict_proba(X_test)[:,1]\n",
    "fpr, tpr, thresholds = roc_curve(y_test, y_test_pred)\n",
    "print('auc={}'.format(auc(fpr,tpr)))\n",
    "AUC=auc(fpr,tpr)\n",
    "fig,ax = plt.subplots(figsize=(10,8))\n",
    "ax.plot(fpr,tpr,linewidth=2,\n",
    "        label='RandomForest-GEO (AUC={})'.format(str(round(auc(fpr,tpr),3))))\n",
    "ax.plot([0,1],[0,1],linestyle='--',color='grey')\n",
    "ax.set_xlabel('False Positive Rate',fontsize=14)\n",
    "ax.set_ylabel('True Positive Rate',fontsize=14)\n",
    "plt.title('RandomForest-GEO AUROC Curve',fontsize=14)\n",
    "plt.legend(loc='lower right',prop={'size': 14})\n",
    "plt.show()\n",
    "ax.get_figure().savefig(\"figures/geo/rf-auc-curve.svg\",dpi=500,format='svg')"
   ]
  },
  {
   "cell_type": "code",
   "execution_count": null,
   "id": "ff43f7f3",
   "metadata": {},
   "outputs": [],
   "source": [
    "lr_model =LogisticRegression(penalty='l2',C=10)\n",
    "lr_model.fit(X_r_train, y_r_train)\n",
    "    \n",
    "y_test_pred=lr_model.predict_proba(X_test)[:,1]\n",
    "fpr, tpr, thresholds = roc_curve(y_test, y_test_pred)\n",
    "print('auc={}'.format(auc(fpr,tpr)))\n",
    "AUC=auc(fpr,tpr)\n",
    "fig,ax = plt.subplots(figsize=(10,8))\n",
    "ax.plot(fpr,tpr,linewidth=2,\n",
    "        label='LogisticRegression-GEO (AUC={})'.format(str(round(auc(fpr,tpr),3))))\n",
    "ax.plot([0,1],[0,1],linestyle='--',color='grey')\n",
    "ax.set_xlabel('False Positive Rate',fontsize=14)\n",
    "ax.set_ylabel('True Positive Rate',fontsize=14)\n",
    "plt.title('LogisticRegression-GEO AUROC Curve',fontsize=14)\n",
    "plt.legend(loc='lower right',prop={'size': 14})\n",
    "plt.show()\n",
    "ax.get_figure().savefig(\"figures/geo/lr-auc-curve.svg\",dpi=500,format='svg')"
   ]
  },
  {
   "cell_type": "code",
   "execution_count": null,
   "id": "b3483322",
   "metadata": {},
   "outputs": [],
   "source": [
    "mlp_model =MLPClassifier(max_iter=10000,activation='tanh',alpha=0.0001,hidden_layer_sizes=(32,144,32),learning_rate='adaptive',solver='sgd')\n",
    "mlp_model.fit(X_r_train, y_r_train)\n",
    "    \n",
    "y_test_pred=mlp_model.predict_proba(X_test)[:,1]\n",
    "fpr, tpr, thresholds = roc_curve(y_test, y_test_pred)\n",
    "print('auc={}'.format(auc(fpr,tpr)))\n",
    "AUC=auc(fpr,tpr)\n",
    "fig,ax = plt.subplots(figsize=(10,8))\n",
    "ax.plot(fpr,tpr,linewidth=2,\n",
    "        label='MLP-GEO (AUC={})'.format(str(round(auc(fpr,tpr),3))))\n",
    "ax.plot([0,1],[0,1],linestyle='--',color='grey')\n",
    "ax.set_xlabel('False Positive Rate',fontsize=14)\n",
    "ax.set_ylabel('True Positive Rate',fontsize=14)\n",
    "plt.title('MLP-GEO AUROC Curve',fontsize=14)\n",
    "plt.legend(loc='lower right',prop={'size': 14})\n",
    "plt.show()\n",
    "ax.get_figure().savefig(\"figures/geo/mlp-auc-curve.svg\",dpi=500,format='svg')"
   ]
  },
  {
   "cell_type": "markdown",
   "id": "d097ed0c",
   "metadata": {},
   "source": [
    "## Drawing Survival Curve"
   ]
  },
  {
   "cell_type": "code",
   "execution_count": null,
   "id": "09c83d6d",
   "metadata": {},
   "outputs": [],
   "source": [
    "from lifelines import KaplanMeierFitter\n",
    "from matplotlib import pyplot as plt\n",
    "from lifelines.statistics import logrank_test\n",
    "timeline=[]\n",
    "for i in range(0,61):\n",
    "    timeline.append(i)"
   ]
  },
  {
   "cell_type": "code",
   "execution_count": null,
   "id": "60ae6ab9",
   "metadata": {},
   "outputs": [],
   "source": [
    "from sklearn.model_selection import train_test_split\n",
    "X_train,X_test,geo_categorical_train,geo_categorical_test,y_train,y_test=train_test_split(X_gene_exp_L,geo_categorical,y,test_size=0.2,random_state=126,stratify=y)\n",
    "X_train.shape, y_train.shape, X_test.shape, y_test.shape,geo_categorical_train.shape,geo_categorical_test.shape"
   ]
  },
  {
   "cell_type": "code",
   "execution_count": null,
   "id": "3405e60a",
   "metadata": {},
   "outputs": [],
   "source": [
    "%%time\n",
    "X_smote=X_train\n",
    "#X_smote.shape\n",
    "from imblearn.over_sampling import SMOTE,RandomOverSampler\n",
    "oversample = SMOTE(random_state=321)\n",
    "X_r_train,y_r_train=oversample.fit_resample(X_smote,y_train)\n",
    "oversample_r=RandomOverSampler(random_state=321)\n",
    "X_random_train,y_random_train=oversample_r.fit_resample(X_smote,y_train)"
   ]
  },
  {
   "cell_type": "code",
   "execution_count": null,
   "id": "6613fb3b",
   "metadata": {},
   "outputs": [],
   "source": [
    "knn_model =KNeighborsClassifier(leaf_size=10,n_neighbors=8,p=2)\n",
    "knn_model.fit(X_random_train, y_random_train)\n",
    "    \n",
    "knn_predictions=knn_model.predict_proba(X_test)[:,1]\n",
    "\n",
    "#perform the youden's J statistics best threshold selection\n",
    "from sklearn.metrics import roc_curve\n",
    "fpr, tpr, thresholds = roc_curve(y_test, knn_predictions)\n",
    "J = tpr - fpr\n",
    "index_max = np.argmax(J)\n",
    "best_thresh = thresholds[index_max]\n",
    "print('Best Threshold=%f' % (best_thresh))\n",
    "\n",
    "knn_pred=pd.DataFrame(geo_categorical_test)\n",
    "\n",
    "knn_pred['prediction']=knn_predictions\n",
    "\n",
    "knn_pred_positive=knn_pred.loc[knn_pred.prediction>=best_thresh]\n",
    "knn_pred_negative=knn_pred.loc[knn_pred.prediction<best_thresh]\n",
    "\n",
    "knn_clinical_positive=geo_clinical.loc[[s for s in knn_pred_positive.index]]\n",
    "knn_clinical_negative=geo_clinical.loc[[s for s in knn_pred_negative.index]]\n",
    "\n",
    "T_p=knn_clinical_positive['Pat_Overall_Survival_Months']\n",
    "E_p=knn_clinical_positive['Pat_Died']\n",
    "kmf_positive = KaplanMeierFitter()\n",
    "kmf_positive.fit(durations=T_p, event_observed=E_p,timeline=timeline,label='Predicted Positive')\n",
    "ax=kmf_positive.plot()\n",
    "\n",
    "T_n=knn_clinical_negative['Pat_Overall_Survival_Months']\n",
    "E_n=knn_clinical_negative['Pat_Died']\n",
    "kmf_negative=KaplanMeierFitter()\n",
    "kmf_negative.fit(durations=T_n, event_observed=E_n,timeline=timeline,label='Predicted Negative')\n",
    "ax=kmf_negative.plot(ax=ax)\n",
    "\n",
    "results = logrank_test(T_p, T_n, event_observed_A=E_p, event_observed_B=E_n)\n",
    "plt.legend(loc='lower left', bbox_to_anchor=(0.01,0.01),ncol=1,fancybox=False,shadow=False)\n",
    "plt.title('KNN-GEO p-value={}, threshold={}'.format(round((results.p_value),3),round(best_thresh,4)))\n",
    "#plt.title('KNN p<0.6')\n",
    "ax.set_ylabel('Survival Rate')\n",
    "ax.set_xlabel('Timeline(months)')\n",
    "ax.get_figure().savefig(\"figures/geo/KNN_kaplan_meier.svg\",dpi=500,format='svg')"
   ]
  },
  {
   "cell_type": "code",
   "execution_count": null,
   "id": "6dd09c29",
   "metadata": {},
   "outputs": [],
   "source": [
    "svm_model =svm.SVC(C=10,gamma=0.1,kernel='rbf',probability=True)\n",
    "svm_model.fit(X_r_train, y_r_train)\n",
    "    \n",
    "svm_predictions=svm_model.predict_proba(X_test)[:,1]\n",
    "\n",
    "#perform the youden's J statistics best threshold selection\n",
    "from sklearn.metrics import roc_curve\n",
    "fpr, tpr, thresholds = roc_curve(y_test, svm_predictions)\n",
    "J = tpr - fpr\n",
    "index_max = np.argmax(J)\n",
    "best_thresh = thresholds[index_max]\n",
    "print('Best Threshold=%f' % (best_thresh))\n",
    "\n",
    "svm_pred=pd.DataFrame(geo_categorical_test)\n",
    "\n",
    "svm_pred['prediction']=svm_predictions\n",
    "\n",
    "svm_pred_positive=svm_pred.loc[svm_pred.prediction>=best_thresh]\n",
    "svm_pred_negative=svm_pred.loc[svm_pred.prediction<best_thresh]\n",
    "\n",
    "svm_clinical_positive=geo_clinical.loc[[s for s in svm_pred_positive.index]]\n",
    "svm_clinical_negative=geo_clinical.loc[[s for s in svm_pred_negative.index]]\n",
    "\n",
    "T_p=svm_clinical_positive['Pat_Overall_Survival_Months']\n",
    "E_p=svm_clinical_positive['Pat_Died']\n",
    "kmf_positive = KaplanMeierFitter()\n",
    "kmf_positive.fit(durations=T_p, event_observed=E_p,timeline=timeline,label='Predicted Positive')\n",
    "ax=kmf_positive.plot()\n",
    "\n",
    "T_n=svm_clinical_negative['Pat_Overall_Survival_Months']\n",
    "E_n=svm_clinical_negative['Pat_Died']\n",
    "kmf_negative=KaplanMeierFitter()\n",
    "kmf_negative.fit(durations=T_n, event_observed=E_n,timeline=timeline,label='Predicted Negative')\n",
    "ax=kmf_negative.plot(ax=ax)\n",
    "\n",
    "results = logrank_test(T_p, T_n, event_observed_A=E_p, event_observed_B=E_n)\n",
    "plt.legend(loc='lower left', bbox_to_anchor=(0.01,0.01),ncol=1,fancybox=False,shadow=False)\n",
    "plt.title('SVM-GEO p-value={}, threshold={}'.format(round((results.p_value),3),round(best_thresh,4)))\n",
    "#plt.title('KNN p<0.6')\n",
    "ax.set_ylabel('Survival Rate')\n",
    "ax.set_xlabel('Timeline(months)')\n",
    "ax.get_figure().savefig(\"figures/geo/SVM_kaplan_meier.svg\",dpi=500,format='svg')"
   ]
  },
  {
   "cell_type": "code",
   "execution_count": null,
   "id": "77bbc4e6",
   "metadata": {},
   "outputs": [],
   "source": [
    "rf_model =RandomForestClassifier(n_estimators=250,min_samples_split=10,min_samples_leaf=1,max_features='auto',max_depth=20)\n",
    "rf_model.fit(X_r_train, y_r_train)\n",
    "    \n",
    "rf_predictions=rf_model.predict_proba(X_test)[:,1]\n",
    "\n",
    "#perform the youden's J statistics best threshold selection\n",
    "from sklearn.metrics import roc_curve\n",
    "fpr, tpr, thresholds = roc_curve(y_test, rf_predictions)\n",
    "J = tpr - fpr\n",
    "index_max = np.argmax(J)\n",
    "best_thresh = thresholds[index_max]\n",
    "print('Best Threshold=%f' % (best_thresh))\n",
    "\n",
    "rf_pred=pd.DataFrame(geo_categorical_test)\n",
    "\n",
    "rf_pred['prediction']=rf_predictions\n",
    "\n",
    "rf_pred_positive=rf_pred.loc[rf_pred.prediction>=best_thresh]\n",
    "rf_pred_negative=rf_pred.loc[rf_pred.prediction<best_thresh]\n",
    "\n",
    "rf_clinical_positive=geo_clinical.loc[[s for s in rf_pred_positive.index]]\n",
    "rf_clinical_negative=geo_clinical.loc[[s for s in rf_pred_negative.index]]\n",
    "\n",
    "T_p=rf_clinical_positive['Pat_Overall_Survival_Months']\n",
    "E_p=rf_clinical_positive['Pat_Died']\n",
    "kmf_positive = KaplanMeierFitter()\n",
    "kmf_positive.fit(durations=T_p, event_observed=E_p,timeline=timeline,label='Predicted Positive')\n",
    "ax=kmf_positive.plot()\n",
    "\n",
    "T_n=rf_clinical_negative['Pat_Overall_Survival_Months']\n",
    "E_n=rf_clinical_negative['Pat_Died']\n",
    "kmf_negative=KaplanMeierFitter()\n",
    "kmf_negative.fit(durations=T_n, event_observed=E_n,timeline=timeline,label='Predicted Negative')\n",
    "ax=kmf_negative.plot(ax=ax)\n",
    "\n",
    "results = logrank_test(T_p, T_n, event_observed_A=E_p, event_observed_B=E_n)\n",
    "plt.legend(loc='lower left', bbox_to_anchor=(0.01,0.01),ncol=1,fancybox=False,shadow=False)\n",
    "plt.title('RandomForest-GEO p-value={}, threshold={}'.format(round((results.p_value),3),round(best_thresh,4)))\n",
    "#plt.title('KNN p<0.6')\n",
    "ax.set_ylabel('Survival Rate')\n",
    "ax.set_xlabel('Timeline(months)')\n",
    "ax.get_figure().savefig(\"figures/geo/RF_kaplan_meier.svg\",dpi=500,format='svg')"
   ]
  },
  {
   "cell_type": "code",
   "execution_count": null,
   "id": "3ec23fc1",
   "metadata": {},
   "outputs": [],
   "source": [
    "lr_model =LogisticRegression(penalty='l2',C=10)\n",
    "lr_model.fit(X_r_train, y_r_train)\n",
    "    \n",
    "lr_predictions=lr_model.predict_proba(X_test)[:,1]\n",
    "\n",
    "#perform the youden's J statistics best threshold selection\n",
    "from sklearn.metrics import roc_curve\n",
    "fpr, tpr, thresholds = roc_curve(y_test, lr_predictions)\n",
    "J = tpr - fpr\n",
    "index_max = np.argmax(J)\n",
    "best_thresh = thresholds[index_max]\n",
    "print('Best Threshold=%f' % (best_thresh))\n",
    "\n",
    "lr_pred=pd.DataFrame(geo_categorical_test)\n",
    "\n",
    "lr_pred['prediction']=lr_predictions\n",
    "\n",
    "lr_pred_positive=lr_pred.loc[lr_pred.prediction>=best_thresh]\n",
    "lr_pred_negative=lr_pred.loc[lr_pred.prediction<best_thresh]\n",
    "\n",
    "lr_clinical_positive=geo_clinical.loc[[s for s in lr_pred_positive.index]]\n",
    "lr_clinical_negative=geo_clinical.loc[[s for s in lr_pred_negative.index]]\n",
    "\n",
    "T_p=lr_clinical_positive['Pat_Overall_Survival_Months']\n",
    "E_p=lr_clinical_positive['Pat_Died']\n",
    "kmf_positive = KaplanMeierFitter()\n",
    "kmf_positive.fit(durations=T_p, event_observed=E_p,timeline=timeline,label='Predicted Positive')\n",
    "ax=kmf_positive.plot()\n",
    "\n",
    "T_n=lr_clinical_negative['Pat_Overall_Survival_Months']\n",
    "E_n=lr_clinical_negative['Pat_Died']\n",
    "kmf_negative=KaplanMeierFitter()\n",
    "kmf_negative.fit(durations=T_n, event_observed=E_n,timeline=timeline,label='Predicted Negative')\n",
    "ax=kmf_negative.plot(ax=ax)\n",
    "\n",
    "results = logrank_test(T_p, T_n, event_observed_A=E_p, event_observed_B=E_n)\n",
    "plt.legend(loc='lower left', bbox_to_anchor=(0.01,0.01),ncol=1,fancybox=False,shadow=False)\n",
    "plt.title('LogisticRegression-GEO p-value={}, threshold={}'.format(round((results.p_value),3),round(best_thresh,4)))\n",
    "#plt.title('KNN p<0.6')\n",
    "ax.set_ylabel('Survival Rate')\n",
    "ax.set_xlabel('Timeline(months)')\n",
    "ax.get_figure().savefig(\"figures/geo/LR_kaplan_meier.svg\",dpi=500,format='svg')"
   ]
  },
  {
   "cell_type": "code",
   "execution_count": null,
   "id": "a58ac754",
   "metadata": {},
   "outputs": [],
   "source": [
    "mlp_model =MLPClassifier(max_iter=10000,activation='tanh',alpha=0.0001,hidden_layer_sizes=(32,144,32),learning_rate='adaptive',solver='sgd')\n",
    "mlp_model.fit(X_r_train, y_r_train)\n",
    "    \n",
    "mlp_predictions=mlp_model.predict_proba(X_test)[:,1]\n",
    "\n",
    "#perform the youden's J statistics best threshold selection\n",
    "from sklearn.metrics import roc_curve\n",
    "fpr, tpr, thresholds = roc_curve(y_test, mlp_predictions)\n",
    "J = tpr - fpr\n",
    "index_max = np.argmax(J)\n",
    "best_thresh = thresholds[index_max]\n",
    "print('Best Threshold=%f' % (best_thresh))\n",
    "\n",
    "mlp_pred=pd.DataFrame(geo_categorical_test)\n",
    "\n",
    "mlp_pred['prediction']=mlp_predictions\n",
    "\n",
    "mlp_pred_positive=mlp_pred.loc[mlp_pred.prediction>=best_thresh]\n",
    "mlp_pred_negative=mlp_pred.loc[mlp_pred.prediction<best_thresh]\n",
    "\n",
    "mlp_clinical_positive=geo_clinical.loc[[s for s in mlp_pred_positive.index]]\n",
    "mlp_clinical_negative=geo_clinical.loc[[s for s in mlp_pred_negative.index]]\n",
    "\n",
    "T_p=mlp_clinical_positive['Pat_Overall_Survival_Months']\n",
    "E_p=mlp_clinical_positive['Pat_Died']\n",
    "kmf_positive = KaplanMeierFitter()\n",
    "kmf_positive.fit(durations=T_p, event_observed=E_p,timeline=timeline,label='Predicted Positive')\n",
    "ax=kmf_positive.plot()\n",
    "\n",
    "T_n=mlp_clinical_negative['Pat_Overall_Survival_Months']\n",
    "E_n=mlp_clinical_negative['Pat_Died']\n",
    "kmf_negative=KaplanMeierFitter()\n",
    "kmf_negative.fit(durations=T_n, event_observed=E_n,timeline=timeline,label='Predicted Negative')\n",
    "ax=kmf_negative.plot(ax=ax)\n",
    "\n",
    "results = logrank_test(T_p, T_n, event_observed_A=E_p, event_observed_B=E_n)\n",
    "plt.legend(loc='lower left', bbox_to_anchor=(0.01,0.01),ncol=1,fancybox=False,shadow=False)\n",
    "plt.title('MLP-GEO p-value={}, threshold={}'.format(round((results.p_value),3),round(best_thresh,4)))\n",
    "#plt.title('KNN p<0.6')\n",
    "ax.set_ylabel('Survival Rate')\n",
    "ax.set_xlabel('Timeline(months)')\n",
    "ax.get_figure().savefig(\"figures/geo/MLP_kaplan_meier.svg\",dpi=500,format='svg')"
   ]
  },
  {
   "cell_type": "code",
   "execution_count": null,
   "id": "4f788af0",
   "metadata": {},
   "outputs": [],
   "source": []
  }
 ],
 "metadata": {
  "kernelspec": {
   "display_name": "Python 3 (ipykernel)",
   "language": "python",
   "name": "python3"
  },
  "language_info": {
   "codemirror_mode": {
    "name": "ipython",
    "version": 3
   },
   "file_extension": ".py",
   "mimetype": "text/x-python",
   "name": "python",
   "nbconvert_exporter": "python",
   "pygments_lexer": "ipython3",
   "version": "3.10.4"
  }
 },
 "nbformat": 4,
 "nbformat_minor": 5
}
